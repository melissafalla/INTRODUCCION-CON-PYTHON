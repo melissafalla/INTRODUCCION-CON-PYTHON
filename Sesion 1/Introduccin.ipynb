{
 "cells": [
  {
   "cell_type": "code",
   "execution_count": 120,
   "metadata": {},
   "outputs": [
    {
     "name": "stdout",
     "output_type": "stream",
     "text": [
      "Hola mundo\n"
     ]
    }
   ],
   "source": [
    "print(\"Hola mundo\")\n"
   ]
  },
  {
   "cell_type": "markdown",
   "metadata": {},
   "source": [
    "# Identacion"
   ]
  },
  {
   "cell_type": "code",
   "execution_count": 122,
   "metadata": {},
   "outputs": [
    {
     "ename": "IndentationError",
     "evalue": "unindent does not match any outer indentation level (<tokenize>, line 4)",
     "output_type": "error",
     "traceback": [
      "\u001b[0;36m  File \u001b[0;32m<tokenize>:4\u001b[0;36m\u001b[0m\n\u001b[0;31m    else:\u001b[0m\n\u001b[0m    ^\u001b[0m\n\u001b[0;31mIndentationError\u001b[0m\u001b[0;31m:\u001b[0m unindent does not match any outer indentation level\n"
     ]
    }
   ],
   "source": [
    "variable = 5\n",
    "if(variable) == 5:\n",
    "  print(\"Es verdadero\")\n",
    " else:\n",
    "  print(\"Es falso\")"
   ]
  },
  {
   "cell_type": "markdown",
   "metadata": {},
   "source": [
    "# Comentarios"
   ]
  },
  {
   "cell_type": "code",
   "execution_count": null,
   "metadata": {},
   "outputs": [
    {
     "name": "stdout",
     "output_type": "stream",
     "text": [
      "Es verdadero\n",
      "1\n",
      "FIN\n"
     ]
    }
   ],
   "source": [
    "variable = 5\n",
    "# se va a comparar la 'variable' con el valor = 5  y tendra como respuesta en caso print\n",
    "\n",
    "if variable == 5:\n",
    "  print(\"Es verdadero\")\n",
    "  print(1)\n",
    "  print(\"FIN\")\n",
    "else:\n",
    "  print(\"Es falso\")"
   ]
  },
  {
   "cell_type": "markdown",
   "metadata": {},
   "source": [
    "# Vairiables y tipos de datos "
   ]
  },
  {
   "cell_type": "code",
   "execution_count": null,
   "metadata": {},
   "outputs": [
    {
     "name": "stdout",
     "output_type": "stream",
     "text": [
      "Juan\n",
      "30\n",
      "1.7\n",
      "True\n"
     ]
    }
   ],
   "source": [
    "nombre = 'Juan' # variable de tipo string\n",
    "edad = 30  # variable de tipo int\n",
    "altura=1.70  # variable de tipo float\n",
    "es_estudiante = True # varibale tipo float\n",
    "\n",
    "print(nombre)\n",
    "print(edad)\n",
    "print(altura)\n",
    "print(es_estudiante)"
   ]
  },
  {
   "cell_type": "code",
   "execution_count": null,
   "metadata": {},
   "outputs": [
    {
     "name": "stdout",
     "output_type": "stream",
     "text": [
      "<class 'str'>\n",
      "<class 'int'>\n",
      "<class 'float'>\n",
      "<class 'bool'>\n"
     ]
    }
   ],
   "source": [
    "print(type(nombre))\n",
    "print(type(edad))\n",
    "print(type(altura))\n",
    "print(type(es_estudiante))"
   ]
  },
  {
   "cell_type": "markdown",
   "metadata": {},
   "source": [
    "# Tipo de datos-Listas"
   ]
  },
  {
   "cell_type": "code",
   "execution_count": null,
   "metadata": {},
   "outputs": [],
   "source": [
    "# crear una lista vacia\n",
    "lista_1 = [] \n",
    "\n",
    "# crear lista de enteros\n",
    "Lista_2 = [1,2,3,4,5]\n",
    "\n",
    "# crear lista strings\n",
    "Lista_3 = [\"apple\", \"Hello\",\"xyz\"]\n",
    "\n",
    "#crear lista mixta \n",
    "lista_4 = [2,3,\"Hello\",44.4]\n",
    "\n",
    "# crear lista aninada es decir lista dentro de otra list\n",
    "Lista_5 = [1,2,\"Hello\", [\"X\"]]"
   ]
  },
  {
   "cell_type": "code",
   "execution_count": null,
   "metadata": {},
   "outputs": [
    {
     "name": "stdout",
     "output_type": "stream",
     "text": [
      "[1, 2, 'Hello', ['X']]\n"
     ]
    }
   ],
   "source": [
    "print(LIsta_5)"
   ]
  },
  {
   "cell_type": "code",
   "execution_count": null,
   "metadata": {},
   "outputs": [],
   "source": [
    "# acediento a elementos de una lista\n",
    "\"\"\"\n",
    "referencia de posiciones\n",
    "a->0\n",
    "b->1\n",
    "c->2\n",
    "d->3\n",
    "e->4\n",
    "f->5\n",
    "\"\"\"\n",
    "Lista_6 = [\"a\",\"b\",\"c\",\"d\",\"e\",\"f\"]"
   ]
  },
  {
   "cell_type": "code",
   "execution_count": null,
   "metadata": {},
   "outputs": [
    {
     "name": "stdout",
     "output_type": "stream",
     "text": [
      "d\n"
     ]
    }
   ],
   "source": [
    "print(Lista_6[3])"
   ]
  },
  {
   "cell_type": "code",
   "execution_count": null,
   "metadata": {},
   "outputs": [
    {
     "name": "stdout",
     "output_type": "stream",
     "text": [
      "l\n"
     ]
    }
   ],
   "source": [
    "# acceder a un valor de una lista que esta dentro de otra lista\n",
    "\n",
    "print(Lista_5[2][2])  \n"
   ]
  },
  {
   "cell_type": "code",
   "execution_count": null,
   "metadata": {},
   "outputs": [
    {
     "name": "stdout",
     "output_type": "stream",
     "text": [
      "['c', 'd', 'e']\n"
     ]
    }
   ],
   "source": [
    "Lista_6 = [\"a\",\"b\",\"c\",\"d\",\"e\",\"f\"]\n",
    "# lista [2:4] toma valores 2 hasta la posicion 3\n",
    "\n",
    "print(Lista_6[2:5])"
   ]
  },
  {
   "cell_type": "markdown",
   "metadata": {},
   "source": [
    "# Tipo de datos- Tupla\n"
   ]
  },
  {
   "cell_type": "code",
   "execution_count": null,
   "metadata": {},
   "outputs": [
    {
     "name": "stdout",
     "output_type": "stream",
     "text": [
      "1\n",
      "(1, 2, 3)\n",
      "(1, 'hello', 4.4)\n",
      "('apple', 1, [1, 2, 3], [4, 9, 6])\n"
     ]
    }
   ],
   "source": [
    "#los elementos de la tupla no se pueden\n",
    "#modificar como los de las listas\n",
    "\n",
    "# tupla vacia \n",
    "tupla_1 = (1)\n",
    "print(tupla_1)\n",
    "\n",
    "# tupla de enteros \n",
    "tupla_2 = (1,2,3)\n",
    "print(tupla_2)\n",
    "\n",
    "# tupla mixta \n",
    "tupla_3 = (1, \"hello\",4.4)\n",
    "print(tupla_3)\n",
    "\n",
    "# tupla aninadas\n",
    "tupla_4 = (\"apple\",1,[1,2,3],[4,9,6])\n",
    "print(tupla_4)\n"
   ]
  },
  {
   "cell_type": "code",
   "execution_count": null,
   "metadata": {},
   "outputs": [
    {
     "name": "stdout",
     "output_type": "stream",
     "text": [
      "<class 'tuple'>\n"
     ]
    }
   ],
   "source": [
    "tupla = (\"hello\",)\n",
    "print(type(tupla))"
   ]
  },
  {
   "cell_type": "code",
   "execution_count": null,
   "metadata": {},
   "outputs": [
    {
     "name": "stdout",
     "output_type": "stream",
     "text": [
      "[4, 9, 6]\n"
     ]
    }
   ],
   "source": [
    "print(tupla_4[3])"
   ]
  },
  {
   "cell_type": "code",
   "execution_count": null,
   "metadata": {},
   "outputs": [
    {
     "name": "stdout",
     "output_type": "stream",
     "text": [
      "6\n"
     ]
    }
   ],
   "source": [
    "print(tupla_4[3][2])"
   ]
  },
  {
   "cell_type": "markdown",
   "metadata": {},
   "source": [
    "# Tipo de datos - Diccionario\n"
   ]
  },
  {
   "cell_type": "code",
   "execution_count": null,
   "metadata": {},
   "outputs": [
    {
     "name": "stdout",
     "output_type": "stream",
     "text": [
      "{'nombre': 'jhon', 1: {1, 2, 3, 4}}\n"
     ]
    }
   ],
   "source": [
    "# diccionario vacio\n",
    "diccionario_1 ={}\n",
    "\n",
    "# diccionarios con claves enteas\n",
    "diccionario_2 = {1:\"Juan\", 2:'Perez'}\n",
    "\n",
    "#diccionario con claves mixtas\n",
    "diccionario_3 = {\"nombre\":\"jhon\",1:{1,2,3,4}}\n",
    "print(diccionario_3\n",
    ")"
   ]
  },
  {
   "cell_type": "code",
   "execution_count": null,
   "metadata": {},
   "outputs": [],
   "source": [
    "diccionario = {\"nombre\":\"Jack\",\"edad\":24, \"pais\":\"peru\"}"
   ]
  },
  {
   "cell_type": "code",
   "execution_count": null,
   "metadata": {},
   "outputs": [
    {
     "name": "stdout",
     "output_type": "stream",
     "text": [
      "None\n"
     ]
    }
   ],
   "source": [
    "print(diccionario.get('direccion'))"
   ]
  },
  {
   "cell_type": "code",
   "execution_count": null,
   "metadata": {},
   "outputs": [
    {
     "ename": "SyntaxError",
     "evalue": "cannot assign to function call here. Maybe you meant '==' instead of '='? (2969444489.py, line 1)",
     "output_type": "error",
     "traceback": [
      "\u001b[0;36m  Cell \u001b[0;32mIn[86], line 1\u001b[0;36m\u001b[0m\n\u001b[0;31m    print(diccionario('direccion')) = \"calle B\"\u001b[0m\n\u001b[0m    ^\u001b[0m\n\u001b[0;31mSyntaxError\u001b[0m\u001b[0;31m:\u001b[0m cannot assign to function call here. Maybe you meant '==' instead of '='?\n"
     ]
    }
   ],
   "source": [
    "print(diccionario('direccion')) = \"calle B\""
   ]
  },
  {
   "cell_type": "markdown",
   "metadata": {},
   "source": [
    "# iterar"
   ]
  },
  {
   "cell_type": "code",
   "execution_count": null,
   "metadata": {},
   "outputs": [
    {
     "name": "stdout",
     "output_type": "stream",
     "text": [
      "2\n",
      "3\n",
      "Hello\n",
      "44.4\n"
     ]
    }
   ],
   "source": [
    "for item in lista_4:\n",
    "    print(item)"
   ]
  },
  {
   "cell_type": "code",
   "execution_count": null,
   "metadata": {},
   "outputs": [],
   "source": [
    "for clave, valor in diccionario_1.keys():\n",
    "    print(diccionario_1[clave])"
   ]
  },
  {
   "cell_type": "markdown",
   "metadata": {},
   "source": [
    "# cintrol de flujo\n"
   ]
  },
  {
   "cell_type": "code",
   "execution_count": null,
   "metadata": {},
   "outputs": [
    {
     "name": "stdout",
     "output_type": "stream",
     "text": [
      "El numero es positivo\n",
      "siempre se ejecuta\n"
     ]
    }
   ],
   "source": [
    "# control de flujo condicional\n",
    "numero = 10\n",
    "\n",
    "if numero > 0:\n",
    "    print(\"El numero es positivo\")\n",
    "print(\"siempre se ejecuta\")"
   ]
  },
  {
   "cell_type": "code",
   "execution_count": null,
   "metadata": {},
   "outputs": [
    {
     "name": "stdout",
     "output_type": "stream",
     "text": [
      "el numero es positivo\n",
      "el numero es mayor a 5\n",
      "siempre se ejecute\n"
     ]
    }
   ],
   "source": [
    "if numero > 0:\n",
    "    print(\"el numero es positivo\")\n",
    "    if numero < 5:\n",
    "        print(\"el numero es menor a 5\")\n",
    "    else:\n",
    "        print(\"el numero es mayor a 5\")\n",
    "else:\n",
    "    print(\"el numero es negativo\")\n",
    "print(\"siempre se ejecute\")"
   ]
  },
  {
   "cell_type": "code",
   "execution_count": null,
   "metadata": {},
   "outputs": [
    {
     "name": "stdout",
     "output_type": "stream",
     "text": [
      "el elemento en la lista es\n",
      "el elemento en la lista es\n",
      "el elemento en la lista es\n",
      "el elemento en la lista es\n"
     ]
    }
   ],
   "source": [
    "for item in lista_4:\n",
    "    print(\"el elemento en la lista es\")"
   ]
  },
  {
   "cell_type": "code",
   "execution_count": null,
   "metadata": {},
   "outputs": [
    {
     "name": "stdout",
     "output_type": "stream",
     "text": [
      "1\n",
      "2\n",
      "3\n",
      "4\n",
      "5\n",
      "6\n",
      "7\n",
      "8\n",
      "9\n",
      "10\n",
      "la suma es 55\n"
     ]
    }
   ],
   "source": [
    "#while\n",
    "n =10\n",
    "sum = 0\n",
    "i = 1\n",
    "while i <= n:\n",
    "    print(i)\n",
    "    sum = sum + i\n",
    "    i = i +1\n",
    "\n",
    "print(f\"la suma es {sum}\")"
   ]
  },
  {
   "cell_type": "markdown",
   "metadata": {},
   "source": [
    "# funciones"
   ]
  },
  {
   "cell_type": "code",
   "execution_count": 126,
   "metadata": {},
   "outputs": [
    {
     "ename": "NameError",
     "evalue": "name 'retunr2' is not defined",
     "output_type": "error",
     "traceback": [
      "\u001b[0;31m---------------------------------------------------------------------------\u001b[0m",
      "\u001b[0;31mNameError\u001b[0m                                 Traceback (most recent call last)",
      "Cell \u001b[0;32mIn[126], line 3\u001b[0m\n\u001b[1;32m      1\u001b[0m \u001b[38;5;28;01mdef\u001b[39;00m \u001b[38;5;21mfuncion1\u001b[39m(x):\n\u001b[1;32m      2\u001b[0m     retunr2\u001b[38;5;241m*\u001b[39mx\n\u001b[0;32m----> 3\u001b[0m y\u001b[38;5;241m=\u001b[39m\u001b[43mfuncion1\u001b[49m\u001b[43m(\u001b[49m\u001b[38;5;241;43m3\u001b[39;49m\u001b[43m)\u001b[49m\n\u001b[1;32m      4\u001b[0m \u001b[38;5;28mprint\u001b[39m(y)\n",
      "Cell \u001b[0;32mIn[126], line 2\u001b[0m, in \u001b[0;36mfuncion1\u001b[0;34m(x)\u001b[0m\n\u001b[1;32m      1\u001b[0m \u001b[38;5;28;01mdef\u001b[39;00m \u001b[38;5;21mfuncion1\u001b[39m(x):\n\u001b[0;32m----> 2\u001b[0m     \u001b[43mretunr2\u001b[49m\u001b[38;5;241m*\u001b[39mx\n",
      "\u001b[0;31mNameError\u001b[0m: name 'retunr2' is not defined"
     ]
    }
   ],
   "source": [
    "def funcion1(x):\n",
    "    retunr2*x\n",
    "y=funcion1(3)\n",
    "print(y)\n"
   ]
  },
  {
   "cell_type": "code",
   "execution_count": 125,
   "metadata": {},
   "outputs": [],
   "source": [
    "def clean_data(dataset):\n",
    "    df = dataset.query(\"colum1 !=null\")\n",
    "    df = df.selec['columna1', 'columna2','columna3']\n",
    "    return df\n"
   ]
  }
 ],
 "metadata": {
  "kernelspec": {
   "display_name": "Python 3 (ipykernel)",
   "language": "python",
   "name": "python3"
  }
 },
 "nbformat": 4,
 "nbformat_minor": 2
}
